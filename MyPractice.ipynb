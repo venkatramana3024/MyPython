{
  "nbformat": 4,
  "nbformat_minor": 0,
  "metadata": {
    "colab": {
      "provenance": [],
      "authorship_tag": "ABX9TyMeb0MbTO+bkfojio9sYQNH",
      "include_colab_link": true
    },
    "kernelspec": {
      "name": "python3",
      "display_name": "Python 3"
    },
    "language_info": {
      "name": "python"
    }
  },
  "cells": [
    {
      "cell_type": "markdown",
      "metadata": {
        "id": "view-in-github",
        "colab_type": "text"
      },
      "source": [
        "<a href=\"https://colab.research.google.com/github/venkatramana3024/MyPython/blob/main/MyPractice.ipynb\" target=\"_parent\"><img src=\"https://colab.research.google.com/assets/colab-badge.svg\" alt=\"Open In Colab\"/></a>"
      ]
    },
    {
      "cell_type": "code",
      "execution_count": null,
      "metadata": {
        "colab": {
          "base_uri": "https://localhost:8080/"
        },
        "id": "m0gDDotit7ug",
        "outputId": "7d39e99f-80d6-4681-b2db-9d59696521c5"
      },
      "outputs": [
        {
          "output_type": "execute_result",
          "data": {
            "text/plain": [
              "int"
            ]
          },
          "metadata": {},
          "execution_count": 4
        }
      ],
      "source": [
        "a= 3\n",
        "b = 3.4\n",
        "c = \"Venkat\"\n",
        "\n",
        "type (a)"
      ]
    },
    {
      "cell_type": "code",
      "source": [
        "#Checking type of b\n",
        "type (b)\n",
        "print(7+9)"
      ],
      "metadata": {
        "colab": {
          "base_uri": "https://localhost:8080/"
        },
        "id": "HGqo1-Uk0Rmq",
        "outputId": "06f6a722-7b84-4f51-e911-bada420836bf"
      },
      "execution_count": null,
      "outputs": [
        {
          "output_type": "stream",
          "name": "stdout",
          "text": [
            "16\n"
          ]
        }
      ]
    },
    {
      "cell_type": "code",
      "source": [
        "type (c)"
      ],
      "metadata": {
        "colab": {
          "base_uri": "https://localhost:8080/"
        },
        "id": "kSg5Fwrb0UQ3",
        "outputId": "349f345d-54b9-4c95-8982-a9f74df707eb"
      },
      "execution_count": null,
      "outputs": [
        {
          "output_type": "execute_result",
          "data": {
            "text/plain": [
              "str"
            ]
          },
          "metadata": {},
          "execution_count": 6
        }
      ]
    },
    {
      "cell_type": "code",
      "source": [
        "# Python allows to multiply string by a int and it will print string value by int times.\n",
        "print(c*3)"
      ],
      "metadata": {
        "colab": {
          "base_uri": "https://localhost:8080/"
        },
        "id": "0yTlO0oAGRWi",
        "outputId": "bf879e53-a5bb-46e9-c4a5-47269e1aed15"
      },
      "execution_count": null,
      "outputs": [
        {
          "output_type": "stream",
          "name": "stdout",
          "text": [
            "VenkatVenkatVenkat\n"
          ]
        }
      ]
    },
    {
      "cell_type": "code",
      "source": [
        "my= 'C'\n",
        "print(type(ord(my)))"
      ],
      "metadata": {
        "colab": {
          "base_uri": "https://localhost:8080/"
        },
        "id": "egjE2Yc7G9S2",
        "outputId": "85e6b76b-2af5-427a-a9a8-b10874f9f25d"
      },
      "execution_count": null,
      "outputs": [
        {
          "output_type": "stream",
          "name": "stdout",
          "text": [
            "<class 'int'>\n"
          ]
        }
      ]
    }
  ]
}